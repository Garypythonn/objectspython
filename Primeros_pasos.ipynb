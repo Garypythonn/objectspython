{
  "nbformat": 4,
  "nbformat_minor": 0,
  "metadata": {
    "colab": {
      "name": "Primeros pasos.ipynb",
      "provenance": [],
      "collapsed_sections": [],
      "authorship_tag": "ABX9TyPjQ7NpUrdk8wY7sDAjWJiR",
      "include_colab_link": true
    },
    "kernelspec": {
      "name": "python3",
      "display_name": "Python 3"
    },
    "language_info": {
      "name": "python"
    }
  },
  "cells": [
    {
      "cell_type": "markdown",
      "metadata": {
        "id": "view-in-github",
        "colab_type": "text"
      },
      "source": [
        "<a href=\"https://colab.research.google.com/github/Garypythonn/objectspython/blob/master/Primeros_pasos.ipynb\" target=\"_parent\"><img src=\"https://colab.research.google.com/assets/colab-badge.svg\" alt=\"Open In Colab\"/></a>"
      ]
    },
    {
      "cell_type": "markdown",
      "source": [
        "## API: application programming interface. \n",
        "### Conjunto de subrutinas, funciones y procedimientos (o métodos, en la programación orientada a objetos) que ofrece cierta biblioteca para ser utilizada por otro software como una capa de abstracción.\n",
        "\n",
        "![](https://snipboard.io/8jRHMb.jpg)\n",
        "\n",
        "https://pokeapi.co/\n"
      ],
      "metadata": {
        "id": "pfm905dcxW9d"
      }
    },
    {
      "cell_type": "markdown",
      "source": [
        "#API web\n",
        "![](https://snipboard.io/8UcF9Z.jpg)"
      ],
      "metadata": {
        "id": "zGEuh1r6LyqZ"
      }
    },
    {
      "cell_type": "markdown",
      "source": [
        "# Claves de Acceso  \n",
        "##Tutorial para crear una API: https://www.youtube.com/watch?v=BdmUhQnPToM&t=302s\n",
        "\n",
        "## The Twitter API uses OAuth, a widely used open authorization protocol, to authenticate all the requests. \n",
        "\n",
        "## OAUTH 2.0A: Created with Read, Write, and Direct Messages permissions"
      ],
      "metadata": {
        "id": "HllkdmCIfdbh"
      }
    },
    {
      "cell_type": "code",
      "execution_count": null,
      "metadata": {
        "id": "OTu5BJ_YYHss"
      },
      "outputs": [],
      "source": [
        "pip install tweepy==3.9.0    #La última versión es la '4.10.0'\n"
      ]
    },
    {
      "cell_type": "code",
      "source": [
        "import tweepy\n",
        "import json   # Codificador y decodificador JSON\n",
        "\n",
        "import pandas as pd\n",
        "print(\"pandas version: {}\".format(pd.__version__))\n",
        "print(\"tweepy version: {}\".format(tweepy.__version__)) ###Verificamos la version de tweepy instalada."
      ],
      "metadata": {
        "id": "q8De_bF4hTR3",
        "colab": {
          "base_uri": "https://localhost:8080/"
        },
        "outputId": "7cc6f76c-3023-4854-d6ae-fc162872b6ed"
      },
      "execution_count": null,
      "outputs": [
        {
          "output_type": "stream",
          "name": "stdout",
          "text": [
            "pandas version: 1.3.5\n",
            "tweepy version: 3.9.0\n"
          ]
        }
      ]
    },
    {
      "cell_type": "code",
      "source": [
        "#Las claves obtenidas en Twitter Developer:\n",
        "\n",
        "#Autenticación (login)\n",
        "api_key =\"\"\n",
        "api_secret =\"\"\n",
        "\n",
        "#Autorizacipon (tipos de permisos)\n",
        "access_token = \"\"\n",
        "access_token_secret = \"\"\n",
        "#?\n",
        "bearer_token=\"\""
      ],
      "metadata": {
        "id": "81gR2KianQUL"
      },
      "execution_count": null,
      "outputs": []
    },
    {
      "cell_type": "code",
      "source": [
        "#Proceso de autenticación\n",
        "\n",
        "auth = tweepy.OAuthHandler(api_key, api_secret) #Creamos el objeto auth\n",
        "auth.set_access_token(access_token, access_token_secret) #Ponemos los parámetros del tipo de acceso que obtuvimos.\n",
        "\n",
        "# Con este objeto (api) realizaremos todas las llamadas al API. Toma como parámetro la instancia auth.\n",
        "# El uso de 'wait_on_rate_limit=True'  limita el número de llamadas y evita el error 429.\n",
        "api = tweepy.API(auth, wait_on_rate_limit=True)  "
      ],
      "metadata": {
        "id": "EfywX8EViBV0"
      },
      "execution_count": null,
      "outputs": []
    },
    {
      "cell_type": "markdown",
      "source": [
        "# Enviar tweet, dar follow.\n",
        "\n"
      ],
      "metadata": {
        "id": "t7HhEsC7m5a-"
      }
    },
    {
      "cell_type": "code",
      "source": [
        "from datetime import date\n",
        "hoy = date.today()\n",
        "#api.update_status(f\"Reunión del semillero IPREA del día  :  {hoy}\")"
      ],
      "metadata": {
        "id": "fKKpJj5BnACS"
      },
      "execution_count": null,
      "outputs": []
    },
    {
      "cell_type": "code",
      "source": [
        "nuevo=api.update_status(\"The wind rises\")\n",
        "nuevo.created_at\n"
      ],
      "metadata": {
        "id": "AOxrDjKatua7"
      },
      "execution_count": null,
      "outputs": []
    },
    {
      "cell_type": "code",
      "source": [
        "# Subir una imagen (Hay que cargar una imagen previamente!)\n",
        "data_img = api.media_upload(\"pluton.jpg\") #Esto sube la imagen al servidor pero no la publica\n",
        "print(data_img)\n",
        "\n",
        "#Anotamos el \"media_id_string\"\n",
        "\n"
      ],
      "metadata": {
        "id": "kzdDKe1Sntnt"
      },
      "execution_count": null,
      "outputs": []
    },
    {
      "cell_type": "code",
      "source": [
        "# Subir la imagen en un tweet\n",
        "api.update_status(\"Pluton\", media_ids=['1545159097674235905'])"
      ],
      "metadata": {
        "id": "9mZIGCr_sG0a"
      },
      "execution_count": null,
      "outputs": []
    },
    {
      "cell_type": "code",
      "source": [
        "# Seguir un usuario\n",
        "api.create_friendship(\"muse\")\n"
      ],
      "metadata": {
        "id": "kjrOVp5Mn41z"
      },
      "execution_count": null,
      "outputs": []
    },
    {
      "cell_type": "code",
      "source": [
        "https://twitter.com/dscovr_epic"
      ],
      "metadata": {
        "id": "KimBz42pqu8b"
      },
      "execution_count": null,
      "outputs": []
    },
    {
      "cell_type": "markdown",
      "source": [
        "#Explorar info de usuarios."
      ],
      "metadata": {
        "id": "oiTNBJMuwegI"
      }
    },
    {
      "cell_type": "code",
      "source": [
        "#Información de mi cuenta.\n",
        "from tweepy.parsers import JSONParser\n",
        "miCuenta = api.me() #Guardamos mi info en la variable miCuenta\n",
        "miCuenta\n",
        "miCuenta.id_str\n",
        "miCuenta.created_at\n"
      ],
      "metadata": {
        "id": "xIJ34KWRyrD2",
        "colab": {
          "base_uri": "https://localhost:8080/"
        },
        "outputId": "49ef1e64-3ea3-453a-a518-098f463c7482"
      },
      "execution_count": null,
      "outputs": [
        {
          "output_type": "execute_result",
          "data": {
            "text/plain": [
              "datetime.datetime(2022, 3, 17, 5, 34, 53)"
            ]
          },
          "metadata": {},
          "execution_count": 11
        }
      ]
    },
    {
      "cell_type": "code",
      "source": [
        "# La variable anterior puesta en forma de diccionario (JSON)\n",
        "#miCuenta=miCuenta._json\n",
        "#miCuenta.keys()\n",
        "miCuenta[\"followers_count\"]"
      ],
      "metadata": {
        "id": "LIJf_xfgyrJ-"
      },
      "execution_count": null,
      "outputs": []
    },
    {
      "cell_type": "code",
      "source": [
        "# Datos de mi cuenta en forma clave-valor:\n",
        "\n",
        "claves=list(miCuenta.keys())\n",
        "for i in range(len(claves)):\n",
        "  print(claves[i],\"************ \",miCuenta[claves[i]])"
      ],
      "metadata": {
        "id": "YOK0068bBKsv"
      },
      "execution_count": null,
      "outputs": []
    },
    {
      "cell_type": "code",
      "source": [
        "#Obtener mi lista de seguidores\n",
        "miCuenta = api.me()\n",
        "seguidores=miCuenta.followers()\n",
        "seguidores\n",
        "primerSeguidor=seguidores[0] #Diccionario\n",
        "primerSeguidor\n",
        "#primerSeguidor\n",
        "\n",
        "primerSeguidor=primerSeguidor._json\n",
        "primerSeguidor.keys()\n"
      ],
      "metadata": {
        "id": "6v_UEX0N-Y8F"
      },
      "execution_count": null,
      "outputs": []
    },
    {
      "cell_type": "code",
      "source": [
        "#La fecha de mi último tweet\n",
        "miCuenta\n",
        "#miCuenta=miCuenta._json\n",
        "#miCuenta[\"status\"] #último tweet\n",
        "#stat=miCuenta[\"status\"]\n",
        "#stat._json\n",
        "#miCuenta[\"status\"][\"created_at\"]"
      ],
      "metadata": {
        "id": "80d8khcEBBeU"
      },
      "execution_count": null,
      "outputs": []
    },
    {
      "cell_type": "code",
      "source": [
        "#Ver mi timeline\n",
        "timeline = api.home_timeline()\n",
        "timeline"
      ],
      "metadata": {
        "id": "54zdwPVcD9Nj"
      },
      "execution_count": null,
      "outputs": []
    },
    {
      "cell_type": "code",
      "source": [
        "# Ver únicamente el AUTOR y el TEXTO de los tweets en el timeline\n",
        "timeline = api.home_timeline()\n",
        "for tweet in timeline:\n",
        "    print(f\"{tweet.user.name} ***************** {tweet.text}\")"
      ],
      "metadata": {
        "id": "7Rqee-NgEC6Y"
      },
      "execution_count": null,
      "outputs": []
    },
    {
      "cell_type": "code",
      "source": [
        "#Obtener informacion de otro usuario de Twitter. Ejemplo, cuenta de la UD\n",
        "\n",
        "UD = api.get_user(\"udistrital\")\n",
        "UD=UD._json\n",
        "UD\n"
      ],
      "metadata": {
        "id": "Tlt4cH777YcU"
      },
      "execution_count": null,
      "outputs": []
    },
    {
      "cell_type": "code",
      "source": [
        "#Obtener clave-valor para la info de la cuenta UD:\n",
        "claves=list(UD.keys())\n",
        "for i in range(len(claves)):\n",
        "  print(claves[i],\"************ \",UD[claves[i]])"
      ],
      "metadata": {
        "id": "daYo-oEgyrL8"
      },
      "execution_count": null,
      "outputs": []
    },
    {
      "cell_type": "code",
      "source": [
        "data = api.followers(screen_name=\"udistrital\")\n",
        "data\n",
        "lista=[]\n",
        "for i in range(len(data)):\n",
        "  lista.append(data[i]._json)  ### Llega en chunks de sólo 20 cuentas\n",
        "      \n",
        "#print(len(data))\n",
        "lista\n"
      ],
      "metadata": {
        "id": "JysHAOIJRltA"
      },
      "execution_count": null,
      "outputs": []
    },
    {
      "cell_type": "code",
      "source": [
        "#Nuestro primer Dataframe\n",
        "import pandas as pd\n",
        "data=pd.DataFrame(lista)\n",
        "data"
      ],
      "metadata": {
        "id": "5VAcOWIbLsDh"
      },
      "execution_count": null,
      "outputs": []
    },
    {
      "cell_type": "code",
      "source": [
        "#Buscar Tweets random... a partir de keywords (palabras claves).\n",
        "for tweet in tweepy.Cursor(api.search, q=\"universidad publica\", tweet_mode=\"extended\").items(20):\n",
        "  print(tweet._json['user']['name'])\n",
        "  print(tweet._json['created_at'])\n",
        "  print (\"texto:  \",tweet._json[\"full_text\"])\n",
        "  print(\"_________________________________________________________________________________________________________________________\")\n",
        "    "
      ],
      "metadata": {
        "id": "l4bMqGlHyrYI"
      },
      "execution_count": null,
      "outputs": []
    }
  ]
}