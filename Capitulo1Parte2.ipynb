{
  "nbformat": 4,
  "nbformat_minor": 0,
  "metadata": {
    "colab": {
      "name": "Capitulo1Parte2.ipynb",
      "provenance": [],
      "collapsed_sections": [
        "oAySUB-mySam",
        "7zyD_kKTymAw",
        "mLKvttPhymK3",
        "8LCmILo-ymPK",
        "KHwy75aJymTC",
        "w9mvOIeCk9AM",
        "FdgbzSZuymWe",
        "e7uh9pGzymaB",
        "Hd-r7a33-fyb",
        "96jkfXFo-f2R"
      ],
      "include_colab_link": true
    },
    "kernelspec": {
      "name": "python3",
      "display_name": "Python 3"
    },
    "language_info": {
      "name": "python"
    }
  },
  "cells": [
    {
      "cell_type": "markdown",
      "metadata": {
        "id": "view-in-github",
        "colab_type": "text"
      },
      "source": [
        "<a href=\"https://colab.research.google.com/github/Garypythonn/objectspython/blob/master/Capitulo1Parte2.ipynb\" target=\"_parent\"><img src=\"https://colab.research.google.com/assets/colab-badge.svg\" alt=\"Open In Colab\"/></a>"
      ]
    },
    {
      "cell_type": "code",
      "source": [
        "pip install emoji --upgrade"
      ],
      "metadata": {
        "id": "4HXhsmt2zMiT"
      },
      "execution_count": null,
      "outputs": []
    },
    {
      "cell_type": "markdown",
      "source": [
        "✍✍✍\n",
        "\n",
        "#Capítulo 1, Parte 2\n"
      ],
      "metadata": {
        "id": "oAySUB-mySam"
      }
    },
    {
      "cell_type": "markdown",
      "source": [
        "# 1.11. SLICING \n",
        "❓ ❓ ❓\n",
        "Problema:\n",
        "Se tiene un registro en forma de string con muchos caracteres que lo hacen dificil de leer y queremos limpiarlo y extraer lo que necesitamos."
      ],
      "metadata": {
        "id": "Y_hBp5HvyaWb"
      }
    },
    {
      "cell_type": "code",
      "execution_count": null,
      "metadata": {
        "id": "seVxODNm_Tc8"
      },
      "outputs": [],
      "source": [
        "\n",
        "##pos###'012345678901234567890123456789012345678901234567890'\n",
        "record ='....................100         .......513.25     ..........'\n"
      ]
    },
    {
      "cell_type": "code",
      "source": [
        "#SLICING: Extracción de elementos de objetos(listas, tuplas,strings)\n",
        "## Forma 1\n",
        "items=[5,6,10,15,2,0,24,5]\n",
        "\n",
        "#items[2:6]  #Extrae desde la pos# 2 hasta la pos# 5 (No incluye el elemento de la pos# 6)\n",
        "\n",
        "#items[3:] #Extrae desde la pos#3 en adelante\n",
        "\n",
        "#items[1:6:2]  #Extrae desde pos# 1 hasta pos# 5 de a 2 pasos ( uno si, otro no)"
      ],
      "metadata": {
        "id": "vASJ3dZAZ8Gl"
      },
      "execution_count": null,
      "outputs": []
    },
    {
      "cell_type": "code",
      "source": [
        "## Forma 2: Creando un slice\n",
        "\n",
        "s=slice(2,6)  \n",
        "items[s]\n",
        "\n",
        "#items[s]=[100,200,300,400]  #Edita los elementos especificados por el slice\n",
        "#items\n",
        "\n",
        "#del items[s]   # Borra los elementos espeficidados por el slice\n",
        "#items\n",
        "\n",
        "\n",
        "#a=slice(1,6,2)  \n",
        "#items[a]\n",
        "\n",
        "##'012345678901234'\n",
        "#S='hola-para-todos'\n",
        "#c=slice(5,9)\n",
        "#S[c]"
      ],
      "metadata": {
        "colab": {
          "base_uri": "https://localhost:8080/",
          "height": 39
        },
        "id": "14-8EKyyp2Ir",
        "outputId": "b53c6c4d-92a8-4606-adbf-48c084d74fc5"
      },
      "execution_count": null,
      "outputs": [
        {
          "output_type": "execute_result",
          "data": {
            "text/plain": [
              "'para'"
            ],
            "application/vnd.google.colaboratory.intrinsic+json": {
              "type": "string"
            }
          },
          "metadata": {},
          "execution_count": 89
        }
      ]
    },
    {
      "cell_type": "code",
      "source": [
        "#Obtener informacion de un slice\n",
        "b=slice(5, 50, 2)\n",
        "\n",
        "b.start\n",
        "#b.stop\n",
        "#b.step"
      ],
      "metadata": {
        "colab": {
          "base_uri": "https://localhost:8080/"
        },
        "id": "jQspDWJGu2SA",
        "outputId": "fb7d2c58-415a-49bd-bfec-7686e23f1af4"
      },
      "execution_count": null,
      "outputs": [
        {
          "output_type": "execute_result",
          "data": {
            "text/plain": [
              "5"
            ]
          },
          "metadata": {},
          "execution_count": 73
        }
      ]
    },
    {
      "cell_type": "code",
      "source": [
        "stg='HelloWorld'\n",
        "b.indices(len(stg))  #Devuelve una tupla con (start, stop, step) donde  los valores del slice se \n",
        "                     #ajustan al tamaño de stg"
      ],
      "metadata": {
        "colab": {
          "base_uri": "https://localhost:8080/"
        },
        "id": "65KhveUFvYVM",
        "outputId": "34a46fa9-7786-4241-9db6-5c165b87ff21"
      },
      "execution_count": null,
      "outputs": [
        {
          "output_type": "execute_result",
          "data": {
            "text/plain": [
              "(5, 10, 2)"
            ]
          },
          "metadata": {},
          "execution_count": 74
        }
      ]
    },
    {
      "cell_type": "code",
      "source": [
        "#for i in range(*b.indices(len(stg))):\n",
        " # print(stg[i])"
      ],
      "metadata": {
        "colab": {
          "base_uri": "https://localhost:8080/"
        },
        "id": "cSYmchiK0RnJ",
        "outputId": "3381bfb0-2efb-428c-fde7-539fbce679d8"
      },
      "execution_count": null,
      "outputs": [
        {
          "output_type": "stream",
          "name": "stdout",
          "text": [
            "W\n",
            "r\n",
            "d\n"
          ]
        }
      ]
    },
    {
      "cell_type": "code",
      "source": [
        "# Convertir strings a números (integer o float)\n",
        "\n",
        "n='12568'\n",
        "#type(n)\n",
        "int(n)   # convierte el string n en entero.\n",
        "\n",
        "#f='3.1415'\n",
        "#float(f)  # convierte el string f a decimal."
      ],
      "metadata": {
        "colab": {
          "base_uri": "https://localhost:8080/"
        },
        "id": "TNRgjkJL8mUp",
        "outputId": "daf1b9a5-6640-4550-c29b-0d1d33ad1d7e"
      },
      "execution_count": null,
      "outputs": [
        {
          "output_type": "execute_result",
          "data": {
            "text/plain": [
              "3.1415"
            ]
          },
          "metadata": {},
          "execution_count": 78
        }
      ]
    },
    {
      "cell_type": "code",
      "source": [
        "#Solucion Problema: Ejercicio\n",
        "\n",
        "##pos### '01234567890123456789012345678901234567890123456789012345'\n",
        "record  ='....................100          .......513.25     ..........'\n",
        "record1 ='....................    320      .......    1130.26..........'"
      ],
      "metadata": {
        "id": "nvNvbXJgC0ts"
      },
      "execution_count": null,
      "outputs": []
    },
    {
      "cell_type": "markdown",
      "source": [
        "# 1.12. Determinar los elementos más frecuentes de una secuencia de elementos\n",
        "❓ ❓ ❓\n",
        "Problema:\n",
        "Se tiene una secuencia de elementos y se desea determinar los elementos que ocurren con mayor frecuencia"
      ],
      "metadata": {
        "id": "U62wj-ZIylv-"
      }
    },
    {
      "cell_type": "code",
      "source": [
        "\n",
        "words = [\n",
        "'look', 'into', 'my', 'eyes', 'look', 'into', 'my', 'eyes',\n",
        "'the', 'eyes', 'the', 'eyes', 'the', 'eyes', 'not', 'around', 'the',\n",
        "'eyes', \"don't\", 'look', 'around', 'the', 'eyes', 'look', 'into',\n",
        "'my', 'eyes', \"you're\", 'under'\n",
        "]\n",
        "\n",
        "from collections import Counter  #C mayuscula\n",
        "word_counts = Counter(words)   #cuenta la frecuencia de las palabras en la lista\n",
        "top_three = word_counts.most_common(3) #encuentra las tres más frecuentes\n",
        "print(top_three)"
      ],
      "metadata": {
        "id": "qhNlU8KZwtkq",
        "colab": {
          "base_uri": "https://localhost:8080/"
        },
        "outputId": "bf1a151a-90f3-4127-98e7-3ac2721ca0e1"
      },
      "execution_count": null,
      "outputs": [
        {
          "output_type": "stream",
          "name": "stdout",
          "text": [
            "[('eyes', 8), ('the', 5), ('look', 4)]\n"
          ]
        }
      ]
    },
    {
      "cell_type": "code",
      "source": [
        ""
      ],
      "metadata": {
        "id": "zBA0W4Uz_BVd",
        "colab": {
          "base_uri": "https://localhost:8080/"
        },
        "outputId": "8ebebc8c-2f74-4b7c-c12b-74620e210aed"
      },
      "execution_count": null,
      "outputs": [
        {
          "output_type": "execute_result",
          "data": {
            "text/plain": [
              "Counter({'eyes': 1, 'into': 1, 'look': 2, 'my': 1})"
            ]
          },
          "metadata": {},
          "execution_count": 12
        }
      ]
    },
    {
      "cell_type": "code",
      "source": [
        "word_counts['not']  #Devuelve la ocurrencia de 'not'\n",
        "#word_counts['eyes']"
      ],
      "metadata": {
        "colab": {
          "base_uri": "https://localhost:8080/"
        },
        "id": "F0_dEGqBepeZ",
        "outputId": "1d4a2885-275e-412b-aa1e-0abda154d44e"
      },
      "execution_count": null,
      "outputs": [
        {
          "output_type": "execute_result",
          "data": {
            "text/plain": [
              "8"
            ]
          },
          "metadata": {},
          "execution_count": 11
        }
      ]
    },
    {
      "cell_type": "code",
      "source": [
        "# Aumentar palabras y actualizar el contador: Manualmente\n",
        "morewords = ['why','are','you','not','looking','in','my','eyes']\n",
        "#for word in morewords:\n",
        " # word_counts[word] += 1\n",
        "\n",
        "#word_counts['eyes']\n"
      ],
      "metadata": {
        "id": "-3XiPQL3fZY-"
      },
      "execution_count": null,
      "outputs": []
    },
    {
      "cell_type": "code",
      "source": [
        "# alternativamente\n",
        "\n",
        "word_counts.update(morewords)"
      ],
      "metadata": {
        "id": "q8vVkcxzifm2"
      },
      "execution_count": null,
      "outputs": []
    },
    {
      "cell_type": "code",
      "source": [
        "#Combinar Counters\n",
        "\n",
        "\n",
        "a = Counter(words)\n",
        "b = Counter(morewords)\n",
        "\n",
        "#a\n",
        "#b\n",
        "\n",
        "#c = a + b\n",
        "#c"
      ],
      "metadata": {
        "id": "2069fa4ciwxs"
      },
      "execution_count": null,
      "outputs": []
    },
    {
      "cell_type": "code",
      "source": [
        "#Restar Counters\n",
        "d = a - b\n",
        "d"
      ],
      "metadata": {
        "id": "A0CdBLMGjYWa"
      },
      "execution_count": null,
      "outputs": []
    },
    {
      "cell_type": "code",
      "source": [
        ""
      ],
      "metadata": {
        "id": "PrKtUyNnl4iB"
      },
      "execution_count": null,
      "outputs": []
    },
    {
      "cell_type": "markdown",
      "source": [
        "# 1.13. Ordenar una lista de diccionarios por un 'key' en común.\n",
        "❓ ❓ ❓\n",
        "Problema:\n",
        "Se tiene una lista de diccionarios y se desea ordenar las entradas de acuerdo a uno o más 'Values'."
      ],
      "metadata": {
        "id": "7zyD_kKTymAw"
      }
    },
    {
      "cell_type": "code",
      "source": [
        "rows = [\n",
        "{'fname': 'Brian', 'lname': 'Jones', 'uid': 1003},\n",
        "{'fname': 'David', 'lname': 'Beazley', 'uid': 1002},\n",
        "{'fname': 'John', 'lname': 'Cleese', 'uid': 1001},\n",
        "{'fname': 'Big', 'lname': 'Jones', 'uid': 1004}\n",
        "]"
      ],
      "metadata": {
        "id": "6WjfbDI-_C1j"
      },
      "execution_count": null,
      "outputs": []
    },
    {
      "cell_type": "code",
      "source": [
        "from operator import itemgetter  # importamos la funcion ittemgetter del modulo operator\n",
        "\n",
        "rows_by_fname = sorted(rows , key=itemgetter('fname'))  # ordena la lista por el key fname alfabeticamente\n",
        "                                                       #'fname' es un key en común en todos los diccionarios\n",
        "print(rows_by_fname)\n",
        "\n",
        "\n",
        "#rows_by_uid = sorted(rows, key=itemgetter('uid')) # ordena la lista por el key 'uid' de menor a mayor\n",
        "\n",
        "#print(rows_by_uid)\n"
      ],
      "metadata": {
        "colab": {
          "base_uri": "https://localhost:8080/"
        },
        "id": "42J0Ll4FqBZo",
        "outputId": "57b71b99-1fcc-40ab-fc53-6f1afb495b09"
      },
      "execution_count": null,
      "outputs": [
        {
          "output_type": "stream",
          "name": "stdout",
          "text": [
            "[{'fname': 'Big', 'lname': 'Jones', 'uid': 1004}, {'fname': 'Brian', 'lname': 'Jones', 'uid': 1003}, {'fname': 'David', 'lname': 'Beazley', 'uid': 1002}, {'fname': 'John', 'lname': 'Cleese', 'uid': 1001}]\n"
          ]
        }
      ]
    },
    {
      "cell_type": "code",
      "source": [
        "rows[1]['fname']"
      ],
      "metadata": {
        "colab": {
          "base_uri": "https://localhost:8080/",
          "height": 39
        },
        "id": "QyAysURxu77o",
        "outputId": "8e330c23-c8e2-4104-8e8e-a208b4f71b91"
      },
      "execution_count": null,
      "outputs": [
        {
          "output_type": "execute_result",
          "data": {
            "text/plain": [
              "'David'"
            ],
            "application/vnd.google.colaboratory.intrinsic+json": {
              "type": "string"
            }
          },
          "metadata": {},
          "execution_count": 33
        }
      ]
    },
    {
      "cell_type": "code",
      "source": [
        "# Tambien acepta más de un key\n",
        "\n",
        "rows_by_lfname = sorted(rows, key=itemgetter('lname','fname'))  #lo orden en primera instancia por el primero y \n",
        "                                                                # en caso de igualdad usa el segundo\n",
        "print(rows_by_lfname)                                                        "
      ],
      "metadata": {
        "colab": {
          "base_uri": "https://localhost:8080/"
        },
        "id": "UgJ93lYdruzX",
        "outputId": "2f297048-8d1b-4521-abf0-b6b01291cf4e"
      },
      "execution_count": null,
      "outputs": [
        {
          "output_type": "stream",
          "name": "stdout",
          "text": [
            "[{'fname': 'David', 'lname': 'Beazley', 'uid': 1002}, {'fname': 'John', 'lname': 'Cleese', 'uid': 1001}, {'fname': 'Big', 'lname': 'Jones', 'uid': 1004}, {'fname': 'Brian', 'lname': 'Jones', 'uid': 1003}]\n"
          ]
        }
      ]
    },
    {
      "cell_type": "code",
      "source": [
        "# Se puede aplicar a funciones como min() y max()\n",
        "\n",
        "min(rows, key=itemgetter('uid'))    #  Devuelve el diccionario cuyo valor en el key 'uid' sea el minimo\n",
        "#max(rows, key=itemgetter('uid'))"
      ],
      "metadata": {
        "colab": {
          "base_uri": "https://localhost:8080/"
        },
        "id": "VAYaxavPtGRj",
        "outputId": "e458b6ef-553a-4e0a-8d4e-79e3741a13c2"
      },
      "execution_count": null,
      "outputs": [
        {
          "output_type": "execute_result",
          "data": {
            "text/plain": [
              "{'fname': 'Big', 'lname': 'Jones', 'uid': 1004}"
            ]
          },
          "metadata": {},
          "execution_count": 29
        }
      ]
    },
    {
      "cell_type": "markdown",
      "source": [
        "# 1.14. Ordenar objetos que no permiten ser comparados\n",
        "❓ ❓ ❓\n",
        "Problema:\n",
        "Se desea ordenar objetos de la misma clase, pero que no soportan operaciones de comparación."
      ],
      "metadata": {
        "id": "mLKvttPhymK3"
      }
    },
    {
      "cell_type": "code",
      "source": [
        "# clase: Coleccion de objetos con caracteristicas similares. \n",
        "class User:\n",
        "  def __init__(self, user_id):\n",
        "    self.user_id = user_id\n",
        "  def __repr__(self):                       \n",
        "    return 'User({})'.format(self.user_id)  # le da una representación legible al objeto\n"
      ],
      "metadata": {
        "id": "GMeOQKaa_Dkt"
      },
      "execution_count": null,
      "outputs": []
    },
    {
      "cell_type": "code",
      "source": [
        "#Objetos de clase User\n",
        "User(5)  #objeto de la clase User cuyo id es 5\n",
        "User(10)\n",
        "\n",
        "#User(5)<User(10)   #Objetos incomparables"
      ],
      "metadata": {
        "colab": {
          "base_uri": "https://localhost:8080/"
        },
        "id": "CC12YBb2VSPI",
        "outputId": "a12c6464-c3a2-4ced-e281-306870196aeb"
      },
      "execution_count": null,
      "outputs": [
        {
          "output_type": "execute_result",
          "data": {
            "text/plain": [
              "User(10)"
            ]
          },
          "metadata": {},
          "execution_count": 69
        }
      ]
    },
    {
      "cell_type": "code",
      "source": [
        "users = [User(23), User(3), User(99)]\n",
        "\n",
        "from operator import attrgetter\n",
        "sorted(users, key=attrgetter('user_id'))  # ordena los objetos por el atributo 'user_id'"
      ],
      "metadata": {
        "colab": {
          "base_uri": "https://localhost:8080/"
        },
        "id": "dyUla3g_ZBxD",
        "outputId": "894cbad9-9602-4305-feba-5204bfb4bb66"
      },
      "execution_count": null,
      "outputs": [
        {
          "output_type": "execute_result",
          "data": {
            "text/plain": [
              "[User(3), User(23), User(99)]"
            ]
          },
          "metadata": {},
          "execution_count": 70
        }
      ]
    },
    {
      "cell_type": "code",
      "source": [
        "#Se puede usar para funciones min() o max()\n",
        "\n",
        "min(users, key=attrgetter('user_id')  # devuelve el  User de la lista cuyo 'id' sea el menor de todos.\n",
        "\n",
        "max(users, key=attrgetter('user_id')"
      ],
      "metadata": {
        "id": "7EDfT-eoaES_"
      },
      "execution_count": null,
      "outputs": []
    },
    {
      "cell_type": "markdown",
      "source": [
        "# 1.15. Agrupar datos o registros juntos basados en un campo(o entrada).\n",
        "❓ ❓ ❓\n",
        "Problema:\n",
        "Se tiene una secuencia de diccionarios y se desea iterar sobre los datos en grupos, basados en el valor de un campo en particular, como fecha por ejemplo."
      ],
      "metadata": {
        "id": "8LCmILo-ymPK"
      }
    },
    {
      "cell_type": "code",
      "source": [
        "rows = [\n",
        "{'address': '5412 N CLARK', 'date': '07/01/2012'},\n",
        "{'address': '5148 N CLARK', 'date': '07/04/2012'},\n",
        "{'address': '5800 E 58TH', 'date': '07/02/2012'},\n",
        "{'address': '2122 N CLARK', 'date': '07/03/2012'},\n",
        "{'address': '5645 N RAVENSWOOD', 'date': '07/02/2012'},\n",
        "{'address': '1060 W ADDISON', 'date': '07/02/2012'},\n",
        "{'address': '4801 N BROADWAY', 'date': '07/01/2012'},\n",
        "{'address': '1039 W GRANVILLE', 'date': '07/04/2012'},\n",
        "]\n",
        "\n",
        "#Suponga que se desea iterar sobre los datos por pedazos agrupados por 'date'"
      ],
      "metadata": {
        "id": "Y0F7fiyn_EuN"
      },
      "execution_count": null,
      "outputs": []
    },
    {
      "cell_type": "code",
      "source": [
        "from operator import itemgetter\n",
        "from itertools import groupby  \n",
        "\n",
        "rows.sort(key=itemgetter('date'))  # ordenamos la lista por 'date' \n",
        "\n",
        "for date, items in groupby(rows, key=itemgetter('date')):  #groupby retorna un iterador agrupado por date.\n",
        "  print(date)\n",
        "  for i in items:\n",
        "    print('   ',i)\n"
      ],
      "metadata": {
        "colab": {
          "base_uri": "https://localhost:8080/"
        },
        "id": "p04H1o_j7uDB",
        "outputId": "99e0ca19-d34a-43cf-cd75-5fd6e449a195"
      },
      "execution_count": null,
      "outputs": [
        {
          "output_type": "stream",
          "name": "stdout",
          "text": [
            "07/01/2012\n",
            "    {'address': '5412 N CLARK', 'date': '07/01/2012'}\n",
            "    {'address': '4801 N BROADWAY', 'date': '07/01/2012'}\n",
            "07/02/2012\n",
            "    {'address': '5800 E 58TH', 'date': '07/02/2012'}\n",
            "    {'address': '5645 N RAVENSWOOD', 'date': '07/02/2012'}\n",
            "    {'address': '1060 W ADDISON', 'date': '07/02/2012'}\n",
            "07/03/2012\n",
            "    {'address': '2122 N CLARK', 'date': '07/03/2012'}\n",
            "07/04/2012\n",
            "    {'address': '5148 N CLARK', 'date': '07/04/2012'}\n",
            "    {'address': '1039 W GRANVILLE', 'date': '07/04/2012'}\n"
          ]
        }
      ]
    },
    {
      "cell_type": "markdown",
      "source": [
        "#1.16. filtrando elmentos de una secuencia\n",
        "❓ ❓ ❓\n",
        "Problema:\n",
        "Tenemos datos dentro de una sucesión, y necesitamos extraer sus valores o reducir la sucesión por medio de algún criterio."
      ],
      "metadata": {
        "id": "KHwy75aJymTC"
      }
    },
    {
      "cell_type": "code",
      "source": [
        "#Supongamos que queremos filtrar la siguiente lista generando una lista de positivos y una de negativos:\n",
        "mylist = [1, 4, -5, 10, -7, 2, 3, -1]\n",
        "\n",
        "\n",
        "#Forma larga:\n",
        "pos=[]\n",
        "for i in range(len(mylist)):\n",
        "  if (mylist[i]>0):\n",
        "    pos.append(mylist[i])\n",
        "pos \n"
      ],
      "metadata": {
        "id": "UwZBLjHraa_A",
        "colab": {
          "base_uri": "https://localhost:8080/"
        },
        "outputId": "c3be5d40-833a-48c6-e300-b57f4fd3e745"
      },
      "execution_count": null,
      "outputs": [
        {
          "output_type": "execute_result",
          "data": {
            "text/plain": [
              "[1, 4, 10, 2, 3]"
            ]
          },
          "metadata": {},
          "execution_count": 5
        }
      ]
    },
    {
      "cell_type": "markdown",
      "source": [
        "![](https://snipboard.io/PwJSFj.jpg)"
      ],
      "metadata": {
        "id": "t_SBBXu4btZR"
      }
    },
    {
      "cell_type": "code",
      "source": [
        "#Forma corta:\n",
        "[n for n in mylist]\n",
        "#[n**2 for n in mylist]\n",
        "#[\"hola\" for n in mylist]\n",
        "\n",
        "#[n for n in mylist if n > 0]\n",
        "\n",
        "#[n for n in mylist if n < 0]\n"
      ],
      "metadata": {
        "colab": {
          "base_uri": "https://localhost:8080/"
        },
        "id": "Fv0gtnZ1aZur",
        "outputId": "a288ad7a-e33a-4f2f-f188-c1ea3078cbd6"
      },
      "execution_count": null,
      "outputs": [
        {
          "output_type": "execute_result",
          "data": {
            "text/plain": [
              "['hola', 'hola', 'hola', 'hola', 'hola', 'hola', 'hola', 'hola']"
            ]
          },
          "metadata": {},
          "execution_count": 10
        }
      ]
    },
    {
      "cell_type": "code",
      "source": [
        "#Se crea un objeto del tipo generador:\n",
        "#los objetos del tipo generador se usan para crear un patron de iteración arbitrario (alternativo a range(), reversed(),etc):\n",
        "pos = (n for n in mylist if n > 0)\n",
        "pos\n",
        "\n",
        "for x in pos:\n",
        "  print(x)"
      ],
      "metadata": {
        "id": "XVEzhNDnanhK",
        "colab": {
          "base_uri": "https://localhost:8080/"
        },
        "outputId": "0f5693f9-b7c0-454e-a673-517fc969d181"
      },
      "execution_count": null,
      "outputs": [
        {
          "output_type": "stream",
          "name": "stdout",
          "text": [
            "1\n",
            "4\n",
            "10\n",
            "2\n",
            "3\n"
          ]
        }
      ]
    },
    {
      "cell_type": "code",
      "source": [
        "#Cuál sería la forma larga para el generador anterior?\n",
        "def frange(start, stop, increment):\n",
        "  x = start\n",
        "  while x < stop:\n",
        "    yield x\n",
        "    x += increment"
      ],
      "metadata": {
        "id": "YU_gsltJdsuz"
      },
      "execution_count": null,
      "outputs": []
    },
    {
      "cell_type": "code",
      "source": [
        "#Funciona????\n",
        "\n",
        "mylist = [1, 4, -5, 10, -7, 2, 3, -1]\n",
        "def gen(mylist):\n",
        "  for i in range(len(mylist)):\n",
        "    if (mylist[i]>0):\n",
        "      yield mylist[i]\n",
        "\n",
        "pos=gen(mylist)"
      ],
      "metadata": {
        "id": "cbDfdOFsekHK"
      },
      "execution_count": null,
      "outputs": []
    },
    {
      "cell_type": "code",
      "source": [
        "for x in pos:\n",
        "  print(x)\n"
      ],
      "metadata": {
        "id": "n2aZTRzXgN-a"
      },
      "execution_count": null,
      "outputs": []
    },
    {
      "cell_type": "code",
      "source": [
        "print(emoji.emojize('Funciona!!! :thumbs_up:'))"
      ],
      "metadata": {
        "colab": {
          "base_uri": "https://localhost:8080/"
        },
        "id": "p-1IPLRDhSmx",
        "outputId": "e2b8ccc9-8e2b-49e0-f060-7b15433e633c"
      },
      "execution_count": null,
      "outputs": [
        {
          "output_type": "stream",
          "name": "stdout",
          "text": [
            "Funciona!!! 👍\n"
          ]
        }
      ]
    },
    {
      "cell_type": "code",
      "source": [
        ""
      ],
      "metadata": {
        "id": "megCrPuzkUzb"
      },
      "execution_count": null,
      "outputs": []
    },
    {
      "cell_type": "markdown",
      "source": [
        "try-except\n",
        "![](https://snipboard.io/7hVXgn.jpg)"
      ],
      "metadata": {
        "id": "Scj2AP6zkXQQ"
      }
    },
    {
      "cell_type": "code",
      "source": [
        "#Supongamos que el proceso de filtrado implica una excepción manejo o algún otro detalle complicado.\n",
        "\n",
        "values = ['1', '2', '-3', '-', '4', 'N/A', '5']\n",
        "def is_int(val):\n",
        "  try:\n",
        "    x = int(val)\n",
        "    return True\n",
        "  except ValueError: #Este es error que nos saltaría en la consola si evaluaramos por ejemplo int('e')\n",
        "    return False\n",
        "\n",
        "is_int('2')\n",
        "is_int('-')\n",
        "is_int(2)"
      ],
      "metadata": {
        "id": "HIxsQ2L7azul",
        "colab": {
          "base_uri": "https://localhost:8080/"
        },
        "outputId": "5bd1142a-dbab-49b2-8e1c-7537a4fd8c2b"
      },
      "execution_count": null,
      "outputs": [
        {
          "output_type": "execute_result",
          "data": {
            "text/plain": [
              "True"
            ]
          },
          "metadata": {},
          "execution_count": 3
        }
      ]
    },
    {
      "cell_type": "markdown",
      "source": [
        "#Funciones de orden superior: Filter,Reduce,Map\n",
        "![](https://snipboard.io/GFOEMC.jpg)"
      ],
      "metadata": {
        "id": "w9mvOIeCk9AM"
      }
    },
    {
      "cell_type": "code",
      "source": [
        "#Ejemplo de función que recibe como parámetro otra función???\n",
        "\n",
        "\n"
      ],
      "metadata": {
        "id": "zqSGAx_tF44w"
      },
      "execution_count": null,
      "outputs": []
    },
    {
      "cell_type": "code",
      "source": [
        "ivals = list(filter(is_int, values))\n",
        "print(ivals)"
      ],
      "metadata": {
        "colab": {
          "base_uri": "https://localhost:8080/"
        },
        "id": "Dql_loB-iTR3",
        "outputId": "9f24bcfd-9e87-465d-eca5-97465f1b1fd4"
      },
      "execution_count": null,
      "outputs": [
        {
          "output_type": "stream",
          "name": "stdout",
          "text": [
            "['1', '2', '-3', '4', '5']\n"
          ]
        }
      ]
    },
    {
      "cell_type": "code",
      "source": [
        "#Discusión:\n",
        "\n",
        "#Uso del list comprehension\n",
        "mylist = [1, 4, -5, 10, -7, 2, 3, -1]\n",
        "import math\n",
        "[math.sqrt(n) for n in mylist if n > 0]"
      ],
      "metadata": {
        "id": "Dy2a8sn3a89V",
        "colab": {
          "base_uri": "https://localhost:8080/"
        },
        "outputId": "ed987097-8f31-4ccd-ac4b-588131819ee8"
      },
      "execution_count": null,
      "outputs": [
        {
          "output_type": "execute_result",
          "data": {
            "text/plain": [
              "[1.0, 2.0, 3.1622776601683795, 1.4142135623730951, 1.7320508075688772]"
            ]
          },
          "metadata": {},
          "execution_count": 5
        }
      ]
    },
    {
      "cell_type": "code",
      "source": [
        "#mylist = [1, 4, -5, 10, -7, 2, 3, -1]\n",
        "clip_neg = [n if n > 0 else 0 for n in mylist]\n",
        "clip_neg\n",
        "\n",
        "#clip_pos = [n if n < 0 else 0 for n in mylist] #Da error.\n",
        "#clip_pos"
      ],
      "metadata": {
        "id": "eeRqhTc5bLvv",
        "colab": {
          "base_uri": "https://localhost:8080/"
        },
        "outputId": "a4f97f91-5d4a-4b0f-8682-42413cd49fd5"
      },
      "execution_count": null,
      "outputs": [
        {
          "output_type": "execute_result",
          "data": {
            "text/plain": [
              "[1, 4, 0, 10, 0, 2, 3, 0]"
            ]
          },
          "metadata": {},
          "execution_count": 10
        }
      ]
    },
    {
      "cell_type": "code",
      "source": [
        "# Otra función de orden superior:\n",
        "from itertools import compress"
      ],
      "metadata": {
        "id": "zgoQLNDrHtxz"
      },
      "execution_count": null,
      "outputs": []
    },
    {
      "cell_type": "code",
      "source": [
        "counts = [ 0, 3, 10, 4, 1, 7, 6, 1]"
      ],
      "metadata": {
        "id": "8Mex6ktXbPWr"
      },
      "execution_count": null,
      "outputs": []
    },
    {
      "cell_type": "code",
      "source": [
        "# Lista booleana creada por list comprehension\n",
        "more5 = [n > 5 for n in counts]\n",
        "more5"
      ],
      "metadata": {
        "id": "57Xs0P9bbPaX",
        "colab": {
          "base_uri": "https://localhost:8080/"
        },
        "outputId": "6e16be63-0e0c-4b66-f210-7ae2be849e58"
      },
      "execution_count": null,
      "outputs": [
        {
          "output_type": "execute_result",
          "data": {
            "text/plain": [
              "[False, False, True, False, False, True, True, False]"
            ]
          },
          "metadata": {},
          "execution_count": 13
        }
      ]
    },
    {
      "cell_type": "code",
      "source": [
        "# una lista de residencias que vamos a relacionar con la lista counts:\n",
        "addresses = [\n",
        "'5412 N CLARK',\n",
        "'5148 N CLARK',\n",
        "'5800 E 58TH',\n",
        "'2122 N CLARK'\n",
        "'5645 N RAVENSWOOD',\n",
        "'1060 W ADDISON',\n",
        "'4801 N BROADWAY',\n",
        "'1039 W GRANVILLE',\n",
        "]\n",
        "\n",
        "list(compress(addresses, more5))  #More 5 es un criterio booleano"
      ],
      "metadata": {
        "id": "RIyxVJJgbk-Q",
        "colab": {
          "base_uri": "https://localhost:8080/"
        },
        "outputId": "0cb50ab0-deef-4a3c-fee3-5043cc0d6b7f"
      },
      "execution_count": null,
      "outputs": [
        {
          "output_type": "execute_result",
          "data": {
            "text/plain": [
              "['5800 E 58TH', '4801 N BROADWAY', '1039 W GRANVILLE']"
            ]
          },
          "metadata": {},
          "execution_count": 14
        }
      ]
    },
    {
      "cell_type": "code",
      "source": [
        "#Otro ejemplo del uso de compress\n",
        "x=[1,2,3,4]\n",
        "y=[False,True,False,False]\n",
        "list(compress(x,y))"
      ],
      "metadata": {
        "colab": {
          "base_uri": "https://localhost:8080/"
        },
        "id": "8LufvxtmI9P3",
        "outputId": "7df0fcf4-a5ab-4abb-aefa-720b572c28d6"
      },
      "execution_count": null,
      "outputs": [
        {
          "output_type": "execute_result",
          "data": {
            "text/plain": [
              "[2]"
            ]
          },
          "metadata": {},
          "execution_count": 15
        }
      ]
    },
    {
      "cell_type": "markdown",
      "source": [
        "# 1.17. Extraer un subconjunto de un diccionario.\n",
        "❓ ❓ ❓ Problema:\n",
        "Queremos construir un diccionario a partir de otro diccionario más grande. "
      ],
      "metadata": {
        "id": "FdgbzSZuymWe"
      }
    },
    {
      "cell_type": "code",
      "source": [
        "#@title\n",
        "prices = {\n",
        "'ACME': 45.23,\n",
        "'AAPL': 612.78,\n",
        "'IBM': 205.55,\n",
        "'HPQ': 37.20,\n",
        "'FB': 10.75\n",
        "}\n",
        "\n",
        "# El método items() se usa para devolver la LISTA (en realidad es un dictionary view... de sólo lectura no mutable, se usa el patron de diseño proxy) \n",
        "# con todas las claves del diccionario con valores:\n",
        "\n",
        "prices.items()       #Devuelve: dict_items([('ACME', 45.23), ('AAPL', 612.78), ('IBM', 205.55), ('HPQ', 37.2), ('FB', 10.75)])\n",
        "#type(prices.items())\n",
        "\n",
        "#Qué se puede hacer con un dictionary view: https://johnlekberg.com/blog/2020-09-19-dict-view.html\n"
      ],
      "metadata": {
        "id": "gmgCjTDbLcIJ",
        "cellView": "code"
      },
      "execution_count": null,
      "outputs": []
    },
    {
      "cell_type": "code",
      "source": [
        "#Ejemplo de pérdida de integridad en los datos:\n",
        "x=[1,2,3]\n",
        "y=[]\n",
        "for i in range(len(x)):\n",
        "  x[i]=2*x[i]\n",
        "  y.append(x[i])\n",
        "y"
      ],
      "metadata": {
        "id": "hn_sh3Q1__k-"
      },
      "execution_count": null,
      "outputs": []
    },
    {
      "cell_type": "code",
      "source": [
        "#Cuál es la ventaja de los iteradores sobre los iterables?\n",
        "https://towardsdatascience.com/understanding-generator-expressions-in-python-fe0c4534619#:~:text=Here%20is%20a%20summary%20of,expressions%20are%20generator%20functions%20shortened."
      ],
      "metadata": {
        "id": "MsEY564CpkKd"
      },
      "execution_count": null,
      "outputs": []
    },
    {
      "cell_type": "code",
      "source": [
        "# Haga un diccionario de todos los precios mayores que  200.\n",
        "# Iteración doble \n",
        "# clave:valor es la estructura de salida... \n",
        "p1 = { clave:valor for clave, valor in prices.items() if valor > 200}  \n",
        "p1 "
      ],
      "metadata": {
        "id": "sJ2OczJf_GWT",
        "colab": {
          "base_uri": "https://localhost:8080/"
        },
        "outputId": "a6aefff9-070b-4c82-b17b-c9bd2d209055"
      },
      "execution_count": null,
      "outputs": [
        {
          "output_type": "execute_result",
          "data": {
            "text/plain": [
              "{'AAPL': 612.78, 'IBM': 205.55}"
            ]
          },
          "metadata": {},
          "execution_count": 23
        }
      ]
    },
    {
      "cell_type": "code",
      "source": [
        "#También podemos crear el subdiccionario a partir del método dic()\n",
        "# Primero creamos un object generator a partir del dictionary view price.items y sólo después creamos el diccionario:\n",
        "proto=((key, value) for key, value in prices.items() if value > 200) \n",
        "type(proto)\n",
        "p1 = dict((key, value) for key, value in prices.items() if value > 200) \n",
        "p1\n",
        "#Pero esto generó más pasos de construcción:"
      ],
      "metadata": {
        "id": "4_xCkSVTAfm_"
      },
      "execution_count": null,
      "outputs": []
    },
    {
      "cell_type": "code",
      "source": [
        "# Criterio de selección diferente al orden numérico:  \n",
        "#Haga un diccionario y sólo use las claves de prices.items() que están en el CONJUNTO tech_names\n",
        "tech_names = { 'AAPL', 'IBM', 'HPQ', 'MSFT' }\n",
        "p2 = { key:value for key,value in prices.items() if key in tech_names }\n",
        "p2\n"
      ],
      "metadata": {
        "colab": {
          "base_uri": "https://localhost:8080/"
        },
        "id": "2MRBFIEOL909",
        "outputId": "7715d9aa-540f-426d-daa7-b30845bd4f7c"
      },
      "execution_count": null,
      "outputs": [
        {
          "output_type": "execute_result",
          "data": {
            "text/plain": [
              "set"
            ]
          },
          "metadata": {},
          "execution_count": 44
        }
      ]
    },
    {
      "cell_type": "code",
      "source": [
        "#Otra forma de obtener el subdiccionario anterior:\n",
        "#iteración simple:\n",
        "p2 = { key:prices[key] for key in prices.keys() & tech_names } #Hubo una intersección de claves.\n",
        "p2\n",
        "#Este método es 1.6 más lento"
      ],
      "metadata": {
        "id": "Hros91gQb3WE",
        "colab": {
          "base_uri": "https://localhost:8080/"
        },
        "outputId": "bf87d6b0-7f71-4295-edfd-5b5e8922d52e"
      },
      "execution_count": null,
      "outputs": [
        {
          "output_type": "execute_result",
          "data": {
            "text/plain": [
              "{'AAPL': 612.78, 'HPQ': 37.2, 'IBM': 205.55}"
            ]
          },
          "metadata": {},
          "execution_count": 37
        }
      ]
    },
    {
      "cell_type": "code",
      "source": [
        "prices.keys() & tech_names"
      ],
      "metadata": {
        "colab": {
          "base_uri": "https://localhost:8080/"
        },
        "id": "3DfGE5Vy2oWl",
        "outputId": "d27977fe-0e5c-49a7-cfef-95e1542fe054"
      },
      "execution_count": null,
      "outputs": [
        {
          "output_type": "execute_result",
          "data": {
            "text/plain": [
              "{'AAPL', 'HPQ', 'IBM'}"
            ]
          },
          "metadata": {},
          "execution_count": 38
        }
      ]
    },
    {
      "cell_type": "markdown",
      "source": [
        "# 1.18. Mapear (\"indexar\") nombres a elementos de una secuencia:\n",
        "\n",
        "❓ ❓ ❓ Problema:\n",
        "Tenemos un código que accede a elementos de lista o tupla por posición, pero esto hace que el código\n",
        "algo difícil de leer en ocasiones. También nos gustaría ser menos dependiente de la posición en\n",
        "la estructura, pudiendo acceder a los elementos por su nombre."
      ],
      "metadata": {
        "id": "e7uh9pGzymaB"
      }
    },
    {
      "cell_type": "code",
      "source": [
        "#Collections.namedtuple() is actually a FACTORY method that returns a subclass of the standard Python tuple type\n",
        "# namedtuple allows us to provide names to the elements. So we can access elements both by index value or by name.\n",
        "# collections.namedtuple(typename, field_names, *, rename=False, defaults=None, module=None)\n",
        "from collections import namedtuple\n"
      ],
      "metadata": {
        "id": "66QaaCwD_HWY"
      },
      "execution_count": null,
      "outputs": []
    },
    {
      "cell_type": "markdown",
      "source": [
        "El patrón factory:\n",
        "![](https://snipboard.io/mxNgZw.jpg)"
      ],
      "metadata": {
        "id": "mL_iNVSLQXuf"
      }
    },
    {
      "cell_type": "code",
      "source": [
        "Subscriber = namedtuple('Subscribe', ['addr', 'joined'])\n",
        "sub = Subscriber('jonesy@example.com', '2012-10-19') #Cuando instanciamos tenemos sólo en cuenta el segundo parámetro.\n",
        "sub\n"
      ],
      "metadata": {
        "id": "VOwVF9wVcTH2"
      },
      "execution_count": null,
      "outputs": []
    },
    {
      "cell_type": "code",
      "source": [
        "Subscriber(addr='jonesy@example.com', joined='2012-10-19')\n",
        "# Ahora podemos buscar por nombres (no por índices):\n",
        "sub.addr \n",
        "#sub[0] #igualmente podemos buscar como siempre por índices.\n",
        "\n",
        "#sub.joined"
      ],
      "metadata": {
        "colab": {
          "base_uri": "https://localhost:8080/",
          "height": 35
        },
        "id": "rmoQiMRVJdM9",
        "outputId": "08095b5f-7e95-42ee-9a77-0b984cdcbece"
      },
      "execution_count": null,
      "outputs": [
        {
          "output_type": "execute_result",
          "data": {
            "text/plain": [
              "'jonesy@example.com'"
            ],
            "application/vnd.google.colaboratory.intrinsic+json": {
              "type": "string"
            }
          },
          "metadata": {},
          "execution_count": 103
        }
      ]
    },
    {
      "cell_type": "code",
      "source": [
        "#Que operaciones podemos hacer con este objeto?\n",
        "len(sub)\n",
        "\n",
        "#También podemos hacer operaciones de desempaquetado (igual que como con una tupla):\n",
        "# addr, joined = sub\n",
        "\n",
        "#addr\n",
        "\n",
        "#joined\n"
      ],
      "metadata": {
        "id": "yozz2iHHcZt_"
      },
      "execution_count": null,
      "outputs": []
    },
    {
      "cell_type": "code",
      "source": [
        "# Supongamos que queremos calcular \"el costo\" a partir de los elementos 1,2 de una lista de tuplas:\n",
        "\n",
        "def compute_cost(records):\n",
        "  total = 0.0\n",
        "  for rec in records:\n",
        "      total += rec[1] * rec[2]\n",
        "  return total\n",
        "\n",
        "data=[(1,2,3),(4,5,6),(6,7,8)]\n",
        "compute_cost(data)"
      ],
      "metadata": {
        "id": "RsoFKGG3cd5I",
        "colab": {
          "base_uri": "https://localhost:8080/"
        },
        "outputId": "42c53fa0-cbbb-435b-dfe1-4b41e3e68784"
      },
      "execution_count": null,
      "outputs": [
        {
          "output_type": "execute_result",
          "data": {
            "text/plain": [
              "92.0"
            ]
          },
          "metadata": {},
          "execution_count": 69
        }
      ]
    },
    {
      "cell_type": "code",
      "source": [
        "from collections import namedtuple\n",
        "Stock = namedtuple('Stock', ['name', 'shares', 'price'])\n",
        "\n",
        "def compute_cost(records):\n",
        "  total = 0.0\n",
        "  for rec in records:\n",
        "    s = Stock(*rec)  #Creamos una instancia de Stock para poderle agregar los nombres.... por qué *?\n",
        "    total += s.shares * s.price\n",
        "  return total\n",
        "\n",
        "compute_cost(data)"
      ],
      "metadata": {
        "id": "v7XsOvG6ci5A",
        "colab": {
          "base_uri": "https://localhost:8080/"
        },
        "outputId": "a06b42a4-951f-4cc5-f320-287a19f8c58d"
      },
      "execution_count": null,
      "outputs": [
        {
          "output_type": "execute_result",
          "data": {
            "text/plain": [
              "92.0"
            ]
          },
          "metadata": {},
          "execution_count": 75
        }
      ]
    },
    {
      "cell_type": "code",
      "source": [
        "# Un posible uso de una tupla con nombre es como reemplazo de un diccionario, que requiere más espacio para almacenar.\n",
        "\n",
        "s = Stock('ACME', 100, 123.45) #instanciamos la clase Stock\n",
        "s\n",
        "hex(id(s))\n",
        "\n",
        "#El problema está en si queremos modificar esta \"tupla\" ya que no es inmutable.\n",
        "# s.shares = 75\n",
        "\n"
      ],
      "metadata": {
        "id": "umvFgVgPci8s",
        "colab": {
          "base_uri": "https://localhost:8080/",
          "height": 35
        },
        "outputId": "c47cfd17-4c5f-4640-dc81-d082116ff49e"
      },
      "execution_count": null,
      "outputs": [
        {
          "output_type": "execute_result",
          "data": {
            "text/plain": [
              "'0x7f7df1d12170'"
            ],
            "application/vnd.google.colaboratory.intrinsic+json": {
              "type": "string"
            }
          },
          "metadata": {},
          "execution_count": 77
        }
      ]
    },
    {
      "cell_type": "code",
      "source": [
        "s = s._replace(shares=75) #El truco es que s ahora está apuntado a otra instancia de la clase Stock.\n",
        "s\n",
        "hex(id(s))\n"
      ],
      "metadata": {
        "id": "QvgU6z0fcwlA",
        "colab": {
          "base_uri": "https://localhost:8080/",
          "height": 35
        },
        "outputId": "5f7833ef-087f-479d-ebdf-67e14772b34a"
      },
      "execution_count": null,
      "outputs": [
        {
          "output_type": "execute_result",
          "data": {
            "text/plain": [
              "'0x7f7df1cfa6b0'"
            ],
            "application/vnd.google.colaboratory.intrinsic+json": {
              "type": "string"
            }
          },
          "metadata": {},
          "execution_count": 78
        }
      ]
    },
    {
      "cell_type": "code",
      "source": [
        "#Lo anterior no sucede con un objeto mutable\n",
        "s=[1,2,3]\n",
        "hex(id(s))\n"
      ],
      "metadata": {
        "colab": {
          "base_uri": "https://localhost:8080/",
          "height": 35
        },
        "id": "FK89-aqfbpUo",
        "outputId": "2eeee135-089b-4678-8e73-ef9116398e93"
      },
      "execution_count": null,
      "outputs": [
        {
          "output_type": "execute_result",
          "data": {
            "text/plain": [
              "'0x7f7df1d509b0'"
            ],
            "application/vnd.google.colaboratory.intrinsic+json": {
              "type": "string"
            }
          },
          "metadata": {},
          "execution_count": 79
        }
      ]
    },
    {
      "cell_type": "code",
      "source": [
        "s[0]=20\n",
        "s\n",
        "hex(id(s)) #La posición en memoria se conserva"
      ],
      "metadata": {
        "colab": {
          "base_uri": "https://localhost:8080/",
          "height": 35
        },
        "id": "bNVXndvMb3Cy",
        "outputId": "bc0d4a97-c273-450e-9834-3624b454695a"
      },
      "execution_count": null,
      "outputs": [
        {
          "output_type": "execute_result",
          "data": {
            "text/plain": [
              "'0x7f7df1d509b0'"
            ],
            "application/vnd.google.colaboratory.intrinsic+json": {
              "type": "string"
            }
          },
          "metadata": {},
          "execution_count": 81
        }
      ]
    },
    {
      "cell_type": "code",
      "source": [
        "#Un uso sutil del método _replace() es que puede ser una forma conveniente de COMPLETAR\n",
        "#tuplas con nombre que tienen campos opcionales o faltantes. Para hacer esto, haces un prototipo.\n",
        "#tupla que contiene los valores predeterminados y luego usa _replace() para crear nuevas instancias\n",
        "#con valores reemplazados. Por ejemplo:"
      ],
      "metadata": {
        "id": "yXWj5f2Heq8I"
      },
      "execution_count": null,
      "outputs": []
    },
    {
      "cell_type": "code",
      "source": [
        "from collections import namedtuple\n",
        "Stock = namedtuple('Stock', ['name', 'shares', 'price', 'date', 'time'])\n",
        "\n",
        "stock_prototype = Stock('', 0, 0.0, None, None) #Instancia con campos vacíos\n",
        "\n",
        "#Función que registra los cambios de valores que queremos hacer a la tupla:\n",
        "def dict_to_stock(s):\n",
        "  return stock_prototype._replace(**s)  #Kwags"
      ],
      "metadata": {
        "id": "43TxXEf5cwpL"
      },
      "execution_count": null,
      "outputs": []
    },
    {
      "cell_type": "code",
      "source": [
        "#En el caso general, el reemplazo anterior vendrá en forma de diccionario:\n",
        "a = {'name': 'ACME', 'shares': 100, 'price': 123.45}\n",
        "dict_to_stock(a) # De nuevo hay truco!\n",
        "\n",
        "#b = {'name': 'ACME', 'shares': 100, 'price': 123.45, 'date': '12/17/2012'} #Otros reemplazos para el stock prototipo\n",
        "#dict_to_stock(b)\n"
      ],
      "metadata": {
        "colab": {
          "base_uri": "https://localhost:8080/"
        },
        "id": "9nMat1Kob2K1",
        "outputId": "b07dd454-4005-434e-8d47-f58a79865c7b"
      },
      "execution_count": null,
      "outputs": [
        {
          "output_type": "execute_result",
          "data": {
            "text/plain": [
              "Stock(name='ACME', shares=100, price=123.45, date=None, time=None)"
            ]
          },
          "metadata": {},
          "execution_count": 85
        }
      ]
    },
    {
      "cell_type": "markdown",
      "source": [
        "# 1.19. Transformando y reduciendo los datos al mismo tiempo\n",
        "❓ ❓ ❓  Problema:\n",
        "Queremos ejecutar una función de reducción (e.g., sum(), min(), max()) pero primero queremos transofrmar o fliltrar los datos.\n"
      ],
      "metadata": {
        "id": "Hd-r7a33-fyb"
      }
    },
    {
      "cell_type": "code",
      "source": [
        "#Dada una lista, queremos SUMAR sus CUADRADOS:\n",
        "nums = [1, 2, 3, 4, 5]\n",
        "s = sum(x * x for x in nums)\n",
        "s"
      ],
      "metadata": {
        "id": "3OywsYi-_IMi",
        "colab": {
          "base_uri": "https://localhost:8080/"
        },
        "outputId": "2368433c-3478-44bd-cb9d-4bacdb7558f1"
      },
      "execution_count": null,
      "outputs": [
        {
          "output_type": "execute_result",
          "data": {
            "text/plain": [
              "55"
            ]
          },
          "metadata": {},
          "execution_count": 86
        }
      ]
    },
    {
      "cell_type": "code",
      "source": [
        "transf = (x * x for x in nums)\n",
        "transf\n",
        "#sum(transf)"
      ],
      "metadata": {
        "colab": {
          "base_uri": "https://localhost:8080/"
        },
        "id": "Ng__zOU3i-kN",
        "outputId": "8a395aa5-59f4-457b-b2e2-08255c25b908"
      },
      "execution_count": null,
      "outputs": [
        {
          "output_type": "execute_result",
          "data": {
            "text/plain": [
              "55"
            ]
          },
          "metadata": {},
          "execution_count": 90
        }
      ]
    },
    {
      "cell_type": "code",
      "source": [
        "\n",
        "# Determinar si un archivo .py existe en un directorio (por ejemplo mi escritorio)\n",
        "# La transformación es booleanizar y la reducción es usar la función any\n",
        "import os\n",
        "files = os.listdir('dirname')\n",
        "if any(name.endswith('.py') for name in files):\n",
        "  print('There be python!')\n",
        "else:\n",
        "  print('Sorry, no python.')\n",
        "\n",
        "\n"
      ],
      "metadata": {
        "id": "YPGU8YLSilAr"
      },
      "execution_count": null,
      "outputs": []
    },
    {
      "cell_type": "code",
      "source": [
        "# Convertir una tupla a un string separado por comas:\n",
        "\n",
        "s = ('ACME', 50, 123.45)\n",
        "print(','.join(str(x) for x in s))\n"
      ],
      "metadata": {
        "colab": {
          "base_uri": "https://localhost:8080/"
        },
        "id": "isiG48ESqxPl",
        "outputId": "a9011f6d-ebce-4be6-d40c-b1f5e921ef97"
      },
      "execution_count": null,
      "outputs": [
        {
          "output_type": "stream",
          "name": "stdout",
          "text": [
            "ACME,50,123.45\n"
          ]
        }
      ]
    },
    {
      "cell_type": "code",
      "source": [
        "#Qué hace join (o sea nuestro reductor)?????\n",
        "myTuple = (\"John\", \"Peter\", \"Vicky\")\n",
        "\n",
        "x = \"#\".join(myTuple)"
      ],
      "metadata": {
        "id": "pKXHRUYBrvDT"
      },
      "execution_count": null,
      "outputs": []
    },
    {
      "cell_type": "code",
      "source": [
        "s = ('ACME', 50, 123.45)\n",
        "strr=(str(x) for x in s) #Aquí es donde transformamos la tupla.\n",
        "strr\n",
        "\n",
        "#','.join(strr)"
      ],
      "metadata": {
        "colab": {
          "base_uri": "https://localhost:8080/"
        },
        "id": "DvgncpCUrBoO",
        "outputId": "bb494fdb-d457-415a-f398-be3c2ff9c45e"
      },
      "execution_count": null,
      "outputs": [
        {
          "output_type": "execute_result",
          "data": {
            "text/plain": [
              "<generator object <genexpr> at 0x7f7df1ced2d0>"
            ]
          },
          "metadata": {},
          "execution_count": 98
        }
      ]
    },
    {
      "cell_type": "code",
      "source": [
        "# Data reduction across fields of a data structure\n",
        "portfolio = [\n",
        "{'name':'GOOG', 'shares': 50},\n",
        "{'name':'YHOO', 'shares': 75},\n",
        "{'name':'AOL', 'shares': 20},\n",
        "{'name':'SCOX', 'shares': 65}\n",
        "]\n",
        "\n",
        "min_shares = min(s['shares'] for s in portfolio)"
      ],
      "metadata": {
        "id": "m77sAVKmq2n3"
      },
      "execution_count": null,
      "outputs": []
    },
    {
      "cell_type": "code",
      "source": [
        ""
      ],
      "metadata": {
        "id": "ITor02knszcH"
      },
      "execution_count": null,
      "outputs": []
    },
    {
      "cell_type": "code",
      "source": [
        "s = sum((x * x for x in nums)) # Pasamos generator-expr como argumento\n",
        "s = sum(x * x for x in nums) # Aún más corto"
      ],
      "metadata": {
        "id": "OqHj0GT7dLTG"
      },
      "execution_count": null,
      "outputs": []
    },
    {
      "cell_type": "code",
      "source": [
        "#Original: Returns 20\n",
        "min_shares = min(s['shares'] for s in portfolio)\n",
        "# Alternative: Returns {'name': 'AOL', 'shares': 20}\n",
        "min_shares = min(portfolio, key=lambda s: s['shares'])"
      ],
      "metadata": {
        "id": "q3SkMVjkdAqp"
      },
      "execution_count": null,
      "outputs": []
    },
    {
      "cell_type": "code",
      "source": [
        "### https://www.geeksforgeeks.org/with-statement-in-python/"
      ],
      "metadata": {
        "id": "m2ZwQJpcdA0o"
      },
      "execution_count": null,
      "outputs": []
    },
    {
      "cell_type": "markdown",
      "source": [
        "#1.20. Combinar varios mapeos(diccionarios) en uno solo\n",
        "❓ ❓ ❓ Problema:\n",
        "Tenemos varios diccionarios o asignaciones que deseamos combinar lógicamente en un\n",
        "mapeo(diccionario) único para realizar ciertas operaciones, como buscar valores o verificar la existencia de llaves."
      ],
      "metadata": {
        "id": "96jkfXFo-f2R"
      }
    },
    {
      "cell_type": "code",
      "source": [
        "a = {'x': 1, 'z': 3 }\n",
        "b = {'y': 2, 'z': 4 }"
      ],
      "metadata": {
        "id": "n3B3xe-tdAuU"
      },
      "execution_count": null,
      "outputs": []
    },
    {
      "cell_type": "code",
      "source": [
        "from collections import ChainMap\n",
        "c = ChainMap(a,b)\n",
        "\n",
        "#  Un ChainMap toma múltiples asignaciones y las hace aparecer lógicamente como una sola. Sin embargo,\n",
        "#las asignaciones no se fusionan literalmente. En cambio, un ChainMap simplemente mantiene una lista\n",
        "#de las asignaciones subyacentes y redefine las operaciones comunes del diccionario para escanear el\n",
        "#lista.\n",
        "\n",
        "print(c)"
      ],
      "metadata": {
        "id": "wnH5bJXFdAx0",
        "colab": {
          "base_uri": "https://localhost:8080/"
        },
        "outputId": "0943af2c-ac39-4646-8e74-c8a472e5444d"
      },
      "execution_count": null,
      "outputs": [
        {
          "output_type": "stream",
          "name": "stdout",
          "text": [
            "ChainMap({'x': 1, 'z': 3}, {'y': 2, 'z': 4})\n"
          ]
        }
      ]
    },
    {
      "cell_type": "code",
      "source": [
        "print(c['x']) \n",
        "#print(c['y'])  \n",
        "#print(c['z']) "
      ],
      "metadata": {
        "colab": {
          "base_uri": "https://localhost:8080/"
        },
        "id": "UQt667pEq8YO",
        "outputId": "3553a597-ca43-4cf1-e4d9-16fd33811b35"
      },
      "execution_count": null,
      "outputs": [
        {
          "output_type": "stream",
          "name": "stdout",
          "text": [
            "1\n"
          ]
        }
      ]
    },
    {
      "cell_type": "code",
      "source": [
        "len(c)\n",
        "\n",
        "#list(c.keys())\n",
        "#list(c.values())"
      ],
      "metadata": {
        "id": "ISGFT-nF-_ek",
        "colab": {
          "base_uri": "https://localhost:8080/"
        },
        "outputId": "087a97c1-d740-453c-cd21-44ba835d1f51"
      },
      "execution_count": null,
      "outputs": [
        {
          "output_type": "execute_result",
          "data": {
            "text/plain": [
              "3"
            ]
          },
          "metadata": {},
          "execution_count": 6
        }
      ]
    },
    {
      "cell_type": "code",
      "source": [
        "#Modificación de claves:\n",
        "c['z'] = 10 #modificación de valor de una clave que ya existe\n",
        "c['w'] = 40 #agregado una clave nueva\n",
        "c\n"
      ],
      "metadata": {
        "id": "VT5BAt05duEs",
        "colab": {
          "base_uri": "https://localhost:8080/"
        },
        "outputId": "14901879-6095-4106-e90b-269ae439b635"
      },
      "execution_count": null,
      "outputs": [
        {
          "output_type": "execute_result",
          "data": {
            "text/plain": [
              "ChainMap({'z': 10, 'w': 40}, {'y': 2, 'z': 4})"
            ]
          },
          "metadata": {},
          "execution_count": 21
        }
      ]
    },
    {
      "cell_type": "code",
      "source": [
        "#Borrado de la clave x\n",
        "#del c['x']\n",
        "c\n",
        "#Qué pasa ahora si llamamos al primer y segundo diccionario? Originalmente era a = {'x': 1, 'z': 3 }\n",
        "a # va a aparecer modificado.\n",
        "\n",
        "#del c['y'] #Al no ser una clave del primer diccionario no se modifica y la lanza un error"
      ],
      "metadata": {
        "colab": {
          "base_uri": "https://localhost:8080/"
        },
        "id": "r9jhfe_ztQ9L",
        "outputId": "b8a24015-a1c4-49cd-d51a-d7b8e37d6b7f"
      },
      "execution_count": null,
      "outputs": [
        {
          "output_type": "execute_result",
          "data": {
            "text/plain": [
              "{'w': 40, 'z': 10}"
            ]
          },
          "metadata": {},
          "execution_count": 22
        }
      ]
    },
    {
      "cell_type": "code",
      "source": [
        "values = ChainMap() \n",
        "\n",
        "values"
      ],
      "metadata": {
        "id": "1-IGZ1crduIK",
        "colab": {
          "base_uri": "https://localhost:8080/"
        },
        "outputId": "5857609f-f18b-4efe-97b7-f0b345b7646f"
      },
      "execution_count": null,
      "outputs": [
        {
          "output_type": "execute_result",
          "data": {
            "text/plain": [
              "ChainMap({})"
            ]
          },
          "metadata": {},
          "execution_count": 31
        }
      ]
    },
    {
      "cell_type": "code",
      "source": [
        "values['x'] = 1\n",
        "values"
      ],
      "metadata": {
        "colab": {
          "base_uri": "https://localhost:8080/"
        },
        "id": "UDpWvbIDuBUv",
        "outputId": "a1f7f753-dbb9-4efd-ec51-30da1bd853ff"
      },
      "execution_count": null,
      "outputs": [
        {
          "output_type": "execute_result",
          "data": {
            "text/plain": [
              "ChainMap({'x': 1})"
            ]
          },
          "metadata": {},
          "execution_count": 32
        }
      ]
    },
    {
      "cell_type": "code",
      "source": [
        "# Add a new mapping\n",
        "values = values.new_child()\n",
        "values #El padre es el segundo diccionario.\n",
        "\n"
      ],
      "metadata": {
        "colab": {
          "base_uri": "https://localhost:8080/"
        },
        "id": "479avOgeuKVo",
        "outputId": "7b5ae803-a902-4547-dd6e-cf9d1ba0607b"
      },
      "execution_count": null,
      "outputs": [
        {
          "output_type": "execute_result",
          "data": {
            "text/plain": [
              "ChainMap({}, {'x': 1})"
            ]
          },
          "metadata": {},
          "execution_count": 33
        }
      ]
    },
    {
      "cell_type": "code",
      "source": [
        "values['x'] = 2\n",
        "values #Se va a llenar en nuevo child como la clave x y el valor 2. No hay conflicto en que ambas claves se llamen x-"
      ],
      "metadata": {
        "colab": {
          "base_uri": "https://localhost:8080/"
        },
        "id": "RLLSnVkjuxrT",
        "outputId": "cdf097cc-9d63-4de6-dac4-9c56bdacf011"
      },
      "execution_count": null,
      "outputs": [
        {
          "output_type": "execute_result",
          "data": {
            "text/plain": [
              "ChainMap({'x': 2}, {'x': 1})"
            ]
          },
          "metadata": {},
          "execution_count": 35
        }
      ]
    },
    {
      "cell_type": "code",
      "source": [
        "values['x'] = 3"
      ],
      "metadata": {
        "colab": {
          "base_uri": "https://localhost:8080/"
        },
        "id": "06QJaX6OucwT",
        "outputId": "5e1c80a7-6375-491f-f5ef-bd47d84577db"
      },
      "execution_count": null,
      "outputs": [
        {
          "output_type": "execute_result",
          "data": {
            "text/plain": [
              "ChainMap({'x': 3}, {'x': 2}, {'x': 1})"
            ]
          },
          "metadata": {},
          "execution_count": 36
        }
      ]
    },
    {
      "cell_type": "code",
      "source": [
        "#Qué valor arroja al buscar por la clave 'x'?\n",
        "values=ChainMap({'x': 3}, {'x': 2}, {'x': 1})\n",
        "\n",
        "values['x']"
      ],
      "metadata": {
        "colab": {
          "base_uri": "https://localhost:8080/"
        },
        "id": "fhRp_F0Pv_-Q",
        "outputId": "f7b432ad-4e6d-45e5-86ed-daacaabbd01c"
      },
      "execution_count": null,
      "outputs": [
        {
          "output_type": "execute_result",
          "data": {
            "text/plain": [
              "3"
            ]
          },
          "metadata": {},
          "execution_count": 46
        }
      ]
    },
    {
      "cell_type": "code",
      "source": [
        "values.parents #Atributo"
      ],
      "metadata": {
        "colab": {
          "base_uri": "https://localhost:8080/"
        },
        "id": "HW4uXtFUx_e1",
        "outputId": "11a9c9ee-f223-41dc-e78a-ac9c4ba1fd45"
      },
      "execution_count": null,
      "outputs": [
        {
          "output_type": "execute_result",
          "data": {
            "text/plain": [
              "ChainMap({'x': 2}, {'x': 1})"
            ]
          },
          "metadata": {},
          "execution_count": 47
        }
      ]
    },
    {
      "cell_type": "code",
      "source": [
        "# Discard last mapping\n",
        "values = values.parents #Se queda con los padres del último diccionario creado \n",
        "values['x']\n"
      ],
      "metadata": {
        "id": "0_a-5E2FuSIm",
        "colab": {
          "base_uri": "https://localhost:8080/"
        },
        "outputId": "5e8d89b9-47c3-4b9b-8bf4-cd7489865ac4"
      },
      "execution_count": null,
      "outputs": [
        {
          "output_type": "execute_result",
          "data": {
            "text/plain": [
              "2"
            ]
          },
          "metadata": {},
          "execution_count": 41
        }
      ]
    },
    {
      "cell_type": "code",
      "source": [
        "values"
      ],
      "metadata": {
        "colab": {
          "base_uri": "https://localhost:8080/"
        },
        "id": "MQAGu4NkwzlL",
        "outputId": "c962b8d7-7e55-4844-beb1-bf66c626785a"
      },
      "execution_count": null,
      "outputs": [
        {
          "output_type": "execute_result",
          "data": {
            "text/plain": [
              "ChainMap({'x': 2}, {'x': 1})"
            ]
          },
          "metadata": {},
          "execution_count": 42
        }
      ]
    },
    {
      "cell_type": "code",
      "source": [
        "#Se puede desempaquetar?\n",
        "a,b=values"
      ],
      "metadata": {
        "id": "gV5ca3NYxQU6"
      },
      "execution_count": null,
      "outputs": []
    },
    {
      "cell_type": "code",
      "source": [
        "# Volviendo a desechar el último hijo\n",
        "values = values.parents\n",
        "values['x']\n",
        "values\n"
      ],
      "metadata": {
        "colab": {
          "base_uri": "https://localhost:8080/"
        },
        "id": "PD8BGM_xwoAv",
        "outputId": "bf38e570-3d59-47b8-b3d8-03d0c8a2eb64"
      },
      "execution_count": null,
      "outputs": [
        {
          "output_type": "execute_result",
          "data": {
            "text/plain": [
              "ChainMap({'x': 1})"
            ]
          },
          "metadata": {},
          "execution_count": 45
        }
      ]
    },
    {
      "cell_type": "code",
      "source": [
        "#Una alternativa a Chainmap para fusionar diccionarios es el método update()\n",
        "a = {'x': 1, 'z': 3 }\n",
        "b = {'y': 2, 'z': 4 }\n",
        "merged=b\n",
        "merged.update(a)\n",
        "merged\n"
      ],
      "metadata": {
        "id": "LKPsYonmduLl",
        "colab": {
          "base_uri": "https://localhost:8080/"
        },
        "outputId": "8ad1147b-a38a-49ea-e232-9b10f81135d7"
      },
      "execution_count": null,
      "outputs": [
        {
          "output_type": "execute_result",
          "data": {
            "text/plain": [
              "{'x': 1, 'y': 2, 'z': 3}"
            ]
          },
          "metadata": {},
          "execution_count": 54
        }
      ]
    },
    {
      "cell_type": "code",
      "source": [
        "#Qué pasa si actualizamos uno de los diccionarios originales?\n",
        "a['x'] = 13\n",
        "a\n",
        "#merged['x'] #El diccionario fusionado no se actualiza!"
      ],
      "metadata": {
        "id": "V7BreRSBduN7",
        "colab": {
          "base_uri": "https://localhost:8080/"
        },
        "outputId": "d1d3c13c-27bf-42a0-c0a1-f08850a938fe"
      },
      "execution_count": null,
      "outputs": [
        {
          "output_type": "execute_result",
          "data": {
            "text/plain": [
              "{'x': 13, 'z': 3}"
            ]
          },
          "metadata": {},
          "execution_count": 55
        }
      ]
    },
    {
      "cell_type": "code",
      "source": [
        "#Sucede lo mismo con Chainmap?\n",
        "a = {'x': 1, 'z': 3 }\n",
        "b = {'y': 2, 'z': 4 }\n",
        "merged = ChainMap(a, b)\n",
        "merged['x']\n",
        "\n",
        "a['x'] = 42 #cambiando el valor de 'x' el diccionario a\n",
        "merged['x'] #En este caso sí cambia.\n",
        " "
      ],
      "metadata": {
        "id": "kswJXrVOeVDG",
        "colab": {
          "base_uri": "https://localhost:8080/"
        },
        "outputId": "48d5a949-07fd-473f-87e4-9c44d3c73fb0"
      },
      "execution_count": null,
      "outputs": [
        {
          "output_type": "execute_result",
          "data": {
            "text/plain": [
              "42"
            ]
          },
          "metadata": {},
          "execution_count": 57
        }
      ]
    },
    {
      "cell_type": "code",
      "source": [
        "import emoji\n",
        "print(emoji.emojize('Phd is very easy!!! :thumbs_up:'))"
      ],
      "metadata": {
        "colab": {
          "base_uri": "https://localhost:8080/"
        },
        "id": "Ok5-3zE_RUdC",
        "outputId": "c1038a9b-b58a-42a1-e835-0e2965450a8d"
      },
      "execution_count": null,
      "outputs": [
        {
          "output_type": "stream",
          "name": "stdout",
          "text": [
            "Phd is very easy!!! 👍\n"
          ]
        }
      ]
    },
    {
      "cell_type": "markdown",
      "source": [
        "🧮"
      ],
      "metadata": {
        "id": "10tZUUlaSOmB"
      }
    },
    {
      "cell_type": "code",
      "source": [
        "#Aplicación en un carro de compras:\n",
        "shirts = { \"camisa\" : 500, \"esqueleto\" : 1000, \"camiseta\" : 100 }\n",
        "pants = { \"shorts\" : 300, \"pantaloneta\" : 150 } \n"
      ],
      "metadata": {
        "id": "zBraGT79RUgd"
      },
      "execution_count": null,
      "outputs": []
    },
    {
      "cell_type": "code",
      "source": [
        "chain = ChainMap(shirts, pants)\n",
        "chain #Puedo formar un compilado de todos los artículos"
      ],
      "metadata": {
        "colab": {
          "base_uri": "https://localhost:8080/"
        },
        "id": "folK8H0n8SGy",
        "outputId": "6d409a6a-eb56-400d-df26-d16afcff1775"
      },
      "execution_count": null,
      "outputs": [
        {
          "output_type": "execute_result",
          "data": {
            "text/plain": [
              "ChainMap({'camisa': 500, 'esqueleto': 1000, 'camiseta': 100}, {'shorts': 300, 'pantaloneta': 150})"
            ]
          },
          "metadata": {},
          "execution_count": 74
        }
      ]
    },
    {
      "cell_type": "code",
      "source": [
        "cart = { \"esqueleto\" : 3, \"pantaloneta\" : 4 } \n",
        "\n",
        "total = 0\n",
        "for k,v in cart.items(): #recorremos las claves 'k' que surgen el carrito de compras.\n",
        "  total += chain[k] * v  # 1000x3 + 150x4\n",
        " \n",
        "\n",
        "print(total)\n",
        "\n",
        "#Para ver la ejecución del ciclo visite: https://pythontutor.com/render.html#code=from%20collections%20import%20ChainMap%0A%0Ashirts%20%3D%20%7B%20%22camisa%22%20%3A%20500,%20%22esqueleto%22%20%3A%201000,%20%22camiseta%22%20%3A%20100%20%7D%0Apants%20%3D%20%7B%20%22shorts%22%20%3A%20300,%20%22pantaloneta%22%20%3A%20150%20%7D%20%0A%0Achain%20%3D%20ChainMap%28shirts,%20pants%29%0Achain%20%23Puedo%20formar%20un%20compilado%20de%20todos%20los%20art%C3%ADculos%0A%0Acart%20%3D%20%7B%20%22esqueleto%22%20%3A%203,%20%22pantaloneta%22%20%3A%204%20%7D%20%0A%0Atotal%20%3D%200%0Afor%20k,v%20in%20cart.items%28%29%3A%20%23recorremos%20las%20claves%20'k'%20que%20surgen%20el%20carrito%20de%20compras.%0A%20%20total%20%2B%3D%20chain%5Bk%5D%20*%20v%20%20%23%201000x3%20%2B%20150x4%0A%20%0A%0Aprint%28total%29&cumulative=false&curInstr=13&heapPrimitives=nevernest&mode=display&origin=opt-frontend.js&py=3&rawInputLstJSON=%5B%5D&textReferences=false"
      ],
      "metadata": {
        "colab": {
          "base_uri": "https://localhost:8080/"
        },
        "id": "UZigAR6d1aYT",
        "outputId": "4e6dc2d6-3401-4a89-9d9d-9eb9f5f8432e"
      },
      "execution_count": null,
      "outputs": [
        {
          "output_type": "stream",
          "name": "stdout",
          "text": [
            "3600\n"
          ]
        }
      ]
    },
    {
      "cell_type": "code",
      "source": [
        "#Uso: comportamiento por defecto \n",
        "\n",
        "personal={}   # El usuario no puso apodo al registrarse y por eso el diccionario de registro quedó vacío\n",
        "porDefecto={\"apodo\": \"UsuarioRandom\"}\n",
        "\n",
        "chain = ChainMap(personal,porDefecto)\n",
        "print(chain['apodo'])\n",
        "\n",
        "\n"
      ],
      "metadata": {
        "colab": {
          "base_uri": "https://localhost:8080/"
        },
        "id": "NYoy5P6J5LFU",
        "outputId": "e9333b97-336a-4efc-b826-6bc5a97226b2"
      },
      "execution_count": null,
      "outputs": [
        {
          "output_type": "stream",
          "name": "stdout",
          "text": [
            "UsuarioRandom\n"
          ]
        }
      ]
    },
    {
      "cell_type": "code",
      "source": [
        "#Pero si el usuario sí ingresa un nickmane:\n",
        "\n",
        "personal={\"apodo\": \"Michael Jordan\"}   # Esta vez sí puso apodo\n",
        "porDefecto={\"apodo\": \"UsuarioRandom\"}\n",
        "\n",
        "chain = ChainMap(personal,porDefecto)\n",
        "print(chain['apodo'])\n"
      ],
      "metadata": {
        "colab": {
          "base_uri": "https://localhost:8080/"
        },
        "id": "NU8z1rkf59aN",
        "outputId": "ca3f8792-204b-4206-b7fb-a0ad8b44a2b2"
      },
      "execution_count": null,
      "outputs": [
        {
          "output_type": "stream",
          "name": "stdout",
          "text": [
            "Michael Jordan\n"
          ]
        }
      ]
    },
    {
      "cell_type": "code",
      "source": [
        ""
      ],
      "metadata": {
        "id": "2m1zJMkL6k13"
      },
      "execution_count": null,
      "outputs": []
    }
  ]
}